{
 "cells": [
  {
   "cell_type": "markdown",
   "metadata": {},
   "source": [
    "### Questions\n",
    "\n",
    "1. Chivalry existed as we have been told?\n",
    "2. The richer, the higher chance of survival?"
   ]
  },
  {
   "cell_type": "code",
   "execution_count": 94,
   "metadata": {},
   "outputs": [
    {
     "name": "stdout",
     "output_type": "stream",
     "text": [
      "68.13 % of survivor are women.\n",
      "Conclusion: Chivalry existed.\n"
     ]
    }
   ],
   "source": [
    "# Question 1\n",
    "# Logic: If more survivors are woman, we say \"Chivalry existed\".\n",
    "import numpy as mp\n",
    "import pandas as pd\n",
    "import matplotlib.pyplot as plt\n",
    "\n",
    "# Comment: Is this a problem for grader to import a local csv file?\n",
    "path = 'C:/Users/qzcoo/Google Drive/Data Analyst Program (Udacity)/Profect_Investigate a Dataset/'\n",
    "data = pd.read_csv(path + 'titanic-data.csv')\n",
    "# sex = pd.read_csv(path + 'titanic-data.csv', index_col='sex')\n",
    "\n",
    "# Extract only related column out as a new table\n",
    "chivalry = data[['Survived','Sex']]\n",
    "\n",
    "# Victorized operation used to calculate man_count and woman_count below\n",
    "man_count = (chivalry['Survived'] == 1) & (chivalry['Sex'] == 'male')\n",
    "woman_count = (chivalry['Survived'] == 1) & (chivalry['Sex'] == 'female')\n",
    "num_woman_count = woman_count.sum()\n",
    "num_sum_count = (man_count | woman_count).sum()\n",
    "print (round(num_woman_count / num_sum_count*100, 2), \"% of survivor are women.\")\n",
    "\n",
    "if num_woman_count / num_sum_count > 0.5:\n",
    "    print ('Conclusion: Chivalry existed.')\n",
    "else:\n",
    "    print ('What is Chivalry?')\n",
    "\n",
    "##Visualization\n",
    "\n",
    "    \n",
    "\n"
   ]
  },
  {
   "cell_type": "code",
   "execution_count": 90,
   "metadata": {},
   "outputs": [
    {
     "name": "stdout",
     "output_type": "stream",
     "text": [
      "People who pay more have 52.51% chance of survival, compares to 25.34% chance who pay less.\n",
      "Conclusion: The richer, the higher chance of survival.\n"
     ]
    }
   ],
   "source": [
    "# Question 2\n",
    "# Logic: First sort the whole table by fare in descending order. If top 50% of people who paid more have a higher probability of being saved than last 50%, we say \"Money does have power\".\n",
    "\n",
    "# Extract only related column out as a new table, sort by fare in descending order.\n",
    "moneypower = data[['Survived','Fare']].sort_values(by=['Fare'], ascending=False)\n",
    "# Truncate the invalid row with fare = 0\n",
    "moneypower_cleaned = moneypower[moneypower['Fare'] > 0]\n",
    "num_total = len(moneypower_cleaned)\n",
    "\n",
    "# Count top 50% and bottom 50% of fare paid people who survived, using pandas function .median(), ignoring the nuance of odd or even total passenger number.\n",
    "top_count = (moneypower_cleaned['Survived'] == 1) & (moneypower_cleaned['Fare'] >= moneypower_cleaned['Fare'].median())\n",
    "bottom_count = (moneypower_cleaned['Survived'] == 1) & (moneypower_cleaned['Fare'] < moneypower_cleaned['Fare'].median())\n",
    "\n",
    "num_top_count = top_count.sum()\n",
    "num_bottom_count = bottom_count.sum()\n",
    "per_top = round(num_top_count / (num_total/2.), 4)\n",
    "per_bottom = round(num_bottom_count / (num_total/2.), 4)\n",
    "\n",
    "print('People who pay more have {}% chance of survival, compares to {}% chance who pay less.'.format(per_top*100, per_bottom*100))\n",
    "\n",
    "if per_top > per_bottom:\n",
    "    print (\"Conclusion: The richer, the higher chance of survival.\")\n",
    "else:\n",
    "    print (\"Conclusion: No signifance correlation between fare and survival.\")\n",
    "    \n",
    "##Visualization\n",
    "\n",
    "\n",
    "\n"
   ]
  },
  {
   "cell_type": "code",
   "execution_count": null,
   "metadata": {
    "collapsed": true
   },
   "outputs": [],
   "source": []
  }
 ],
 "metadata": {
  "kernelspec": {
   "display_name": "Python 3",
   "language": "python",
   "name": "python3"
  },
  "language_info": {
   "codemirror_mode": {
    "name": "ipython",
    "version": 3
   },
   "file_extension": ".py",
   "mimetype": "text/x-python",
   "name": "python",
   "nbconvert_exporter": "python",
   "pygments_lexer": "ipython3",
   "version": "3.6.1"
  }
 },
 "nbformat": 4,
 "nbformat_minor": 2
}
